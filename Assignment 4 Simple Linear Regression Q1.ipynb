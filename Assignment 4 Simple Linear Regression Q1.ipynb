{
 "cells": [
  {
   "cell_type": "code",
   "execution_count": null,
   "metadata": {},
   "outputs": [],
   "source": [
    "#MohsinEssani\n",
    "#Assignment 4 Simple Linear Regression \n",
    "#Delivery Time\n",
    "\n",
    "import pandas as pd\n",
    "from sklearn.linear_model import LinearRegression\n",
    "from sklearn.model_selection import train_test_split\n",
    "from sklearn.metrics import mean_squared_error, r2_score\n",
    "from sklearn.preprocessing import MinMaxScaler"
   ]
  },
  {
   "cell_type": "markdown",
   "metadata": {},
   "source": [
    "# Without using Transformations "
   ]
  },
  {
   "cell_type": "code",
   "execution_count": null,
   "metadata": {},
   "outputs": [],
   "source": [
    "# Load data into a DataFrame\n",
    "data=pd.read_csv(\"delivery_time.csv\")"
   ]
  },
  {
   "cell_type": "code",
   "execution_count": null,
   "metadata": {},
   "outputs": [],
   "source": [
    "# Check for missing or corrupted data\n",
    "print(data.info())\n",
    "print(data.isnull().sum())"
   ]
  },
  {
   "cell_type": "code",
   "execution_count": null,
   "metadata": {
    "scrolled": true
   },
   "outputs": [],
   "source": [
    "# Perform EDA\n",
    "print(data.describe())\n"
   ]
  },
  {
   "cell_type": "code",
   "execution_count": null,
   "metadata": {},
   "outputs": [],
   "source": [
    "\n",
    "# Removing Outliers\n",
    "q1 = data[\"Delivery Time\"].quantile(0.25)\n",
    "q3 = data[\"Delivery Time\"].quantile(0.75)\n",
    "iqr = q3-q1\n",
    "data = data[~((data[\"Delivery Time\"] < (q1 - 1.5 * iqr)) |(data[\"Delivery Time\"] > (q3 + 1.5 * iqr)))]\n"
   ]
  },
  {
   "cell_type": "code",
   "execution_count": null,
   "metadata": {},
   "outputs": [],
   "source": [
    "data.describe()"
   ]
  },
  {
   "cell_type": "code",
   "execution_count": null,
   "metadata": {},
   "outputs": [],
   "source": [
    "# Normalizing the data\n",
    "scaler = MinMaxScaler()\n",
    "data[[\"Delivery Time\", \"Sorting Time\"]] = scaler.fit_transform(data[[\"Delivery Time\", \"Sorting Time\"]])"
   ]
  },
  {
   "cell_type": "code",
   "execution_count": null,
   "metadata": {},
   "outputs": [],
   "source": [
    "# Create an instance of the LinearRegression model\n",
    "model = LinearRegression()\n"
   ]
  },
  {
   "cell_type": "code",
   "execution_count": null,
   "metadata": {},
   "outputs": [],
   "source": [
    "\n",
    "# Split the data into training and testing sets\n",
    "X_train, X_test, y_train, y_test = train_test_split(data[['Sorting Time']], data['Delivery Time'], test_size=0.2, random_state=42)\n",
    "\n"
   ]
  },
  {
   "cell_type": "code",
   "execution_count": null,
   "metadata": {},
   "outputs": [],
   "source": [
    "# Fit the model to the training data\n",
    "model.fit(X_train, y_train)\n"
   ]
  },
  {
   "cell_type": "code",
   "execution_count": null,
   "metadata": {},
   "outputs": [],
   "source": [
    "# Predict delivery time based on sorting time\n",
    "y_pred = model.predict(X_test)"
   ]
  },
  {
   "cell_type": "code",
   "execution_count": null,
   "metadata": {},
   "outputs": [],
   "source": [
    "# Print the model's performance\n",
    "print(\"Mean Squared Error:\", mean_squared_error(y_test, y_pred))\n",
    "print(\"R-Squared:\", r2_score(y_test, y_pred))"
   ]
  },
  {
   "cell_type": "raw",
   "metadata": {},
   "source": [
    "# In this case, the mean squared error is 0.03185201577468258 and R-squared is -1.0207599586367357, which indicates that the linear regression model is not a good fit for the given data.\n",
    "\n",
    "# Mean Squared Error (MSE) is a measure of how well the model is able to predict the target variable. It is calculated as the average of the squared differences between the predicted values and the actual values. A lower MSE indicates that the model is performing better and has a lower error.\n",
    "\n",
    "# R-squared is a statistical measure that represents the proportion of the variance for a dependent variable that's explained by an independent variable or variables in a regression model. It ranges between 0 and 1, where 0 means that the model explains none of the variability of the response data around its mean and 1 means that the model explains all the variability of the response data around its mean.\n",
    "\n",
    "# A negative R-squared value means that the model is a poor fit for the data and is not explaining any of the variability in the data. Therefore in this case, the Linear Regression model is not a good fit for the data, and other models or techniques may be necessary to improve the predictions."
   ]
  },
  {
   "cell_type": "code",
   "execution_count": null,
   "metadata": {},
   "outputs": [],
   "source": []
  },
  {
   "cell_type": "code",
   "execution_count": null,
   "metadata": {},
   "outputs": [],
   "source": []
  },
  {
   "cell_type": "markdown",
   "metadata": {},
   "source": [
    "# Using Transformations (By using Log, Square Root,Cube root and Reciprocal identifying the accuracy)"
   ]
  },
  {
   "cell_type": "code",
   "execution_count": 1,
   "metadata": {},
   "outputs": [],
   "source": [
    "import numpy as np\n",
    "import pandas as pd\n",
    "from sklearn.linear_model import LinearRegression\n",
    "from sklearn.metrics import mean_squared_error, mean_absolute_error, r2_score\n",
    "from sklearn.model_selection import train_test_split\n",
    "\n",
    "# Load the data\n",
    "df = pd.read_csv(\"delivery_time.csv\")\n"
   ]
  },
  {
   "cell_type": "code",
   "execution_count": 2,
   "metadata": {},
   "outputs": [],
   "source": [
    "# Log transformation\n",
    "df[\"Delivery Time (log)\"] = np.log(df[\"Delivery Time\"])\n"
   ]
  },
  {
   "cell_type": "code",
   "execution_count": 3,
   "metadata": {},
   "outputs": [],
   "source": [
    "\n",
    "# Square root transformation\n",
    "df[\"Delivery Time (sqrt)\"] = np.sqrt(df[\"Delivery Time\"])"
   ]
  },
  {
   "cell_type": "code",
   "execution_count": 4,
   "metadata": {},
   "outputs": [],
   "source": [
    "# Cube root transformation\n",
    "df[\"Delivery Time (cbrt)\"] = df[\"Delivery Time\"].apply(lambda x: x**(1/3))\n",
    "\n",
    "# Reciprocal transformation\n",
    "df[\"Delivery Time (reciprocal)\"] = df[\"Delivery Time\"].apply(lambda x: 1/x)\n"
   ]
  },
  {
   "cell_type": "code",
   "execution_count": 5,
   "metadata": {},
   "outputs": [],
   "source": [
    "# Split the data into training and testing sets\n",
    "X_train, X_test, y_train, y_test = train_test_split(df[[\"Delivery Time (log)\", \"Delivery Time (sqrt)\", \"Delivery Time (cbrt)\", \"Delivery Time (reciprocal)\"]], df[\"Sorting Time\"], test_size=0.2, random_state=42)"
   ]
  },
  {
   "cell_type": "code",
   "execution_count": 8,
   "metadata": {},
   "outputs": [],
   "source": [
    "# Perform transformations on independent variable\n",
    "X_train_log = np.log(X_train)\n",
    "X_train_sqrt = np.sqrt(X_train)\n",
    "X_train_cuberoot = np.cbrt(X_train)\n",
    "X_train_reciprocal = 1/X_train\n",
    "\n"
   ]
  },
  {
   "cell_type": "code",
   "execution_count": 9,
   "metadata": {},
   "outputs": [],
   "source": [
    "# Fit a linear regression model for each transformation\n",
    "models = [LinearRegression(), LinearRegression(), LinearRegression(), LinearRegression()]\n",
    "transformed_X_train = [X_train_log, X_train_sqrt, X_train_cuberoot, X_train_reciprocal]\n",
    "\n",
    "for i, X_train_transformed in enumerate(transformed_X_train):\n",
    "    models[i].fit(X_train_transformed, y_train)\n"
   ]
  },
  {
   "cell_type": "code",
   "execution_count": 10,
   "metadata": {},
   "outputs": [
    {
     "name": "stdout",
     "output_type": "stream",
     "text": [
      "Transformation: 1, R-Squared: 0.44077043884675404, MSE: 4.026452840303371\n",
      "Transformation: 2, R-Squared: 0.3795462171010754, MSE: 4.4672672368722575\n",
      "Transformation: 3, R-Squared: 0.3779632132121856, MSE: 4.478664864872263\n",
      "Transformation: 4, R-Squared: 0.37867842903907956, MSE: 4.473515310918627\n"
     ]
    }
   ],
   "source": [
    "# Calculate accuracy on test set\n",
    "X_test_log = np.log(X_test)\n",
    "X_test_sqrt = np.sqrt(X_test)\n",
    "X_test_cuberoot = np.cbrt(X_test)\n",
    "X_test_reciprocal = 1/X_test\n",
    "transformed_X_test = [X_test_log, X_test_sqrt, X_test_cuberoot, X_test_reciprocal]\n",
    "\n",
    "for i, X_test_transformed in enumerate(transformed_X_test):\n",
    "    y_pred = models[i].predict(X_test_transformed)\n",
    "    r2 = r2_score(y_test, y_pred)\n",
    "    mse = mean_squared_error(y_test, y_pred)\n",
    "    print(f\"Transformation: {i+1}, R-Squared: {r2}, MSE: {mse}\")"
   ]
  },
  {
   "cell_type": "raw",
   "metadata": {},
   "source": [
    "#The best model for simple linear regression would be the first transformation, which uses the log function. This is because it has the highest R-squared value, which indicates the proportion of the variance in the dependent variable that is predictable from the independent variable. Additionally, it also has the lowest MSE (Mean Squared Error) which is a measure of how close the predicted values are to the true values. Therefore, the first transformation (Log) has the best accuracy and the lowest error."
   ]
  },
  {
   "cell_type": "code",
   "execution_count": null,
   "metadata": {},
   "outputs": [],
   "source": []
  }
 ],
 "metadata": {
  "kernelspec": {
   "display_name": "Python 3",
   "language": "python",
   "name": "python3"
  },
  "language_info": {
   "codemirror_mode": {
    "name": "ipython",
    "version": 3
   },
   "file_extension": ".py",
   "mimetype": "text/x-python",
   "name": "python",
   "nbconvert_exporter": "python",
   "pygments_lexer": "ipython3",
   "version": "3.7.6"
  }
 },
 "nbformat": 4,
 "nbformat_minor": 4
}
