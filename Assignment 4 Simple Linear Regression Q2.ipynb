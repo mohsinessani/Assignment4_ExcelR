{
 "cells": [
  {
   "cell_type": "code",
   "execution_count": null,
   "metadata": {},
   "outputs": [],
   "source": [
    "#Mohsin Essani\n",
    "#Assignment 3 Question 2\n",
    "#Salary Data Linear Regression\n",
    "\n",
    "import pandas as pd\n",
    "import matplotlib.pyplot as plt\n",
    "from sklearn.linear_model import LinearRegression\n",
    "from sklearn.metrics import r2_score, mean_squared_error\n",
    "from sklearn.model_selection import train_test_split"
   ]
  },
  {
   "cell_type": "code",
   "execution_count": null,
   "metadata": {},
   "outputs": [],
   "source": [
    "\n",
    "# Load the data into a Pandas dataframe\n",
    "data = pd.read_csv(\"Salary_Data.csv\")\n"
   ]
  },
  {
   "cell_type": "code",
   "execution_count": null,
   "metadata": {},
   "outputs": [],
   "source": [
    "data"
   ]
  },
  {
   "cell_type": "code",
   "execution_count": null,
   "metadata": {},
   "outputs": [],
   "source": [
    "# Perform EDA to understand the data\n",
    "plt.scatter(data['YearsExperience'], data['Salary'])\n",
    "plt.xlabel(\"Years of Experience\")\n",
    "plt.ylabel(\"Salary\")\n",
    "plt.show()\n",
    "\n",
    "#It is clear in Scatter plot that when years of experience increases, salary also increases and it is a best fit line indicating a straight line. "
   ]
  },
  {
   "cell_type": "code",
   "execution_count": null,
   "metadata": {},
   "outputs": [],
   "source": [
    "\n",
    "# Split the data into training and test sets\n",
    "X_train, X_test, y_train, y_test = train_test_split(data[['YearsExperience']], data['Salary'], test_size=0.2, random_state=42)\n"
   ]
  },
  {
   "cell_type": "code",
   "execution_count": null,
   "metadata": {},
   "outputs": [],
   "source": [
    "# Fit the linear regression model to the training data\n",
    "reg = LinearRegression().fit(X_train, y_train)"
   ]
  },
  {
   "cell_type": "code",
   "execution_count": null,
   "metadata": {},
   "outputs": [],
   "source": [
    "# Make predictions on the test set\n",
    "y_pred = reg.predict(X_test)"
   ]
  },
  {
   "cell_type": "code",
   "execution_count": null,
   "metadata": {},
   "outputs": [],
   "source": [
    "# Evaluate the model's performance\n",
    "print(\"R-squared score:\", r2_score(y_test, y_pred))\n",
    "print(\"Root mean squared error:\", mean_squared_error(y_test, y_pred)**0.5)"
   ]
  },
  {
   "cell_type": "code",
   "execution_count": null,
   "metadata": {},
   "outputs": [],
   "source": [
    "# In simple linear regression, the R-squared score is a measure of how well the model fits the data. It ranges from 0 to 1, with a value of 1 indicating a perfect fit and a value of 0 indicating that the model does not explain any of the variation in the data. A higher R-squared score means that the model explains more of the variation in the data and is a better fit.\n",
    "\n",
    "# The R-squared score of 0.9024461774180497 suggests that the model explains 90.24% of the variation in the data. This is a relatively high R-squared score, which indicates that the model is a good fit for the data.\n",
    "\n",
    "# Root mean squared error (RMSE) is a measure of the difference between the predicted values and the actual values. Lower values of RMSE indicate that the model is a better fit for the data.\n",
    "\n",
    "# The root mean squared error of 7059.04362190151 means that, on average, the model's predictions are off by around $7059.\n",
    "\n",
    "# In summary, the R-squared score of 0.9024461774180497 and Root mean squared error of 7059.04362190151 suggests that the model is a good fit for the data and the predictions made by the model are close to the actual values."
   ]
  },
  {
   "cell_type": "code",
   "execution_count": null,
   "metadata": {},
   "outputs": [],
   "source": []
  },
  {
   "cell_type": "markdown",
   "metadata": {},
   "source": [
    "# Using Transformations and predicting the model accuracy"
   ]
  },
  {
   "cell_type": "code",
   "execution_count": null,
   "metadata": {},
   "outputs": [],
   "source": [
    "\n",
    "import pandas as pd\n",
    "import numpy as np\n",
    "import matplotlib.pyplot as plt\n",
    "from sklearn.linear_model import LinearRegression\n",
    "from sklearn.metrics import r2_score, mean_squared_error\n",
    "from sklearn.model_selection import train_test_split"
   ]
  },
  {
   "cell_type": "code",
   "execution_count": null,
   "metadata": {},
   "outputs": [],
   "source": [
    "data = pd.read_csv(\"Salary_Data.csv\")"
   ]
  },
  {
   "cell_type": "code",
   "execution_count": null,
   "metadata": {},
   "outputs": [],
   "source": [
    "\n",
    "X = data['YearsExperience'].values.reshape(-1,1)\n",
    "y = data['Salary'].values.reshape(-1,1)"
   ]
  },
  {
   "cell_type": "code",
   "execution_count": null,
   "metadata": {},
   "outputs": [],
   "source": [
    "# Transform the data\n",
    "X_log = np.log(X + 1)\n",
    "X_sqrt = np.sqrt(X)\n",
    "X_cuberoot = np.cbrt(X)"
   ]
  },
  {
   "cell_type": "code",
   "execution_count": null,
   "metadata": {},
   "outputs": [],
   "source": [
    "\n",
    "# Fit the linear regression model\n",
    "models = {\n",
    "    'log': LinearRegression().fit(X_log, y),\n",
    "    'sqrt': LinearRegression().fit(X_sqrt, y),\n",
    "    'cuberoot': LinearRegression().fit(X_cuberoot, y),\n",
    "    'original': LinearRegression().fit(X, y)\n",
    "}\n"
   ]
  },
  {
   "cell_type": "code",
   "execution_count": null,
   "metadata": {},
   "outputs": [],
   "source": [
    "# Predict and calculate the mean squared error for each transformation\n",
    "for name, model in models.items():\n",
    "    y_pred = model.predict(X)\n",
    "    mse = mean_squared_error(y, y_pred)\n",
    "    print(f'MSE for {name} transformation: {mse}')\n"
   ]
  },
  {
   "cell_type": "code",
   "execution_count": null,
   "metadata": {},
   "outputs": [],
   "source": []
  },
  {
   "cell_type": "code",
   "execution_count": null,
   "metadata": {},
   "outputs": [],
   "source": []
  },
  {
   "cell_type": "markdown",
   "metadata": {},
   "source": [
    "# Using PolynomialFeatures Technique to improve the MSE model"
   ]
  },
  {
   "cell_type": "code",
   "execution_count": null,
   "metadata": {},
   "outputs": [],
   "source": [
    "import numpy as np\n",
    "import pandas as pd\n",
    "from sklearn.linear_model import LinearRegression\n",
    "from sklearn.preprocessing import PolynomialFeatures\n",
    "from sklearn.metrics import mean_squared_error\n",
    "\n",
    "# Import and prepare the data\n",
    "df = pd.read_csv(\"Salary_Data.csv\")\n",
    "\n"
   ]
  },
  {
   "cell_type": "code",
   "execution_count": null,
   "metadata": {},
   "outputs": [],
   "source": [
    "X = df.YearsExperience.values.reshape(-1,1)\n",
    "y = df.Salary.values.reshape(-1,1)"
   ]
  },
  {
   "cell_type": "code",
   "execution_count": null,
   "metadata": {},
   "outputs": [],
   "source": [
    "# Transform the data\n",
    "X_log = np.log(X)\n"
   ]
  },
  {
   "cell_type": "code",
   "execution_count": null,
   "metadata": {},
   "outputs": [],
   "source": [
    "# Create the polynomial features\n",
    "poly = PolynomialFeatures(degree=2)\n",
    "X_poly = poly.fit_transform(X_log)"
   ]
  },
  {
   "cell_type": "code",
   "execution_count": null,
   "metadata": {},
   "outputs": [],
   "source": [
    "\n",
    "# Fit the model\n",
    "reg = LinearRegression()\n",
    "reg.fit(X_poly, y)"
   ]
  },
  {
   "cell_type": "code",
   "execution_count": null,
   "metadata": {},
   "outputs": [],
   "source": [
    "\n",
    "# Make predictions\n",
    "y_pred = reg.predict(X_poly)"
   ]
  },
  {
   "cell_type": "code",
   "execution_count": null,
   "metadata": {},
   "outputs": [],
   "source": [
    "\n",
    "# Calculate the MSE\n",
    "mse = mean_squared_error(y, y_pred)\n",
    "print(\"MSE for log transformation with polynomial regression:\", mse)"
   ]
  },
  {
   "cell_type": "code",
   "execution_count": null,
   "metadata": {},
   "outputs": [],
   "source": []
  },
  {
   "cell_type": "markdown",
   "metadata": {},
   "source": [
    "# Using Ridge and Lasso Technique to observe the model accuracy"
   ]
  },
  {
   "cell_type": "code",
   "execution_count": null,
   "metadata": {},
   "outputs": [],
   "source": [
    "import numpy as np\n",
    "import pandas as pd\n",
    "from sklearn.linear_model import Ridge, Lasso\n",
    "from sklearn.metrics import mean_squared_error\n",
    "from sklearn.model_selection import train_test_split\n"
   ]
  },
  {
   "cell_type": "code",
   "execution_count": null,
   "metadata": {},
   "outputs": [],
   "source": [
    "data = pd.read_csv(\"Salary_Data.csv\")"
   ]
  },
  {
   "cell_type": "code",
   "execution_count": null,
   "metadata": {},
   "outputs": [],
   "source": [
    "\n",
    "X = data[['YearsExperience']]\n",
    "y = data['Salary']"
   ]
  },
  {
   "cell_type": "code",
   "execution_count": null,
   "metadata": {},
   "outputs": [],
   "source": [
    "\n",
    "# # Transform the data\n",
    "X_log = np.log(X)\n",
    "X_sqrt = np.sqrt(X)\n",
    "X_cuberoot = np.cbrt(X)\n",
    "X_square = np.square(X)"
   ]
  },
  {
   "cell_type": "code",
   "execution_count": null,
   "metadata": {},
   "outputs": [],
   "source": [
    " X_transformed = pd.concat([X, X_log, X_sqrt, X_cuberoot, X_square], axis=1)"
   ]
  },
  {
   "cell_type": "code",
   "execution_count": null,
   "metadata": {},
   "outputs": [],
   "source": [
    "X_train, X_test, y_train, y_test = train_test_split(X_transformed, y, test_size=0.2, random_state=42)"
   ]
  },
  {
   "cell_type": "code",
   "execution_count": null,
   "metadata": {},
   "outputs": [],
   "source": [
    "ridge = Ridge()\n",
    "ridge.fit(X_train, y_train)\n",
    "\n",
    "# # Fit the Ridge or Lasso model\n",
    "# lasso = Lasso()\n",
    "# lasso.fit(X_train, y_train)\n",
    "\n",
    "# # Make predictions on the test set\n",
    "# y_pred = ridge.predict(X_test)"
   ]
  },
  {
   "cell_type": "code",
   "execution_count": null,
   "metadata": {},
   "outputs": [],
   "source": [
    "# # Make predictions on the test set\n",
    "y_pred = ridge.predict(X_test)\n",
    "\n",
    "# y_pred = ridge.predict(X_test)"
   ]
  },
  {
   "cell_type": "code",
   "execution_count": null,
   "metadata": {},
   "outputs": [],
   "source": [
    "mse = mean_squared_error(y_test, y_pred)\n",
    "print(\"MSE: \", mse)"
   ]
  },
  {
   "cell_type": "code",
   "execution_count": null,
   "metadata": {},
   "outputs": [],
   "source": []
  },
  {
   "cell_type": "code",
   "execution_count": null,
   "metadata": {},
   "outputs": [],
   "source": []
  },
  {
   "cell_type": "markdown",
   "metadata": {},
   "source": [
    "# Using Transformations and observing the accuracy"
   ]
  },
  {
   "cell_type": "code",
   "execution_count": null,
   "metadata": {},
   "outputs": [],
   "source": [
    "import numpy as np\n",
    "import pandas as pd\n",
    "from sklearn.linear_model import LinearRegression\n",
    "from sklearn.metrics import mean_squared_error"
   ]
  },
  {
   "cell_type": "code",
   "execution_count": null,
   "metadata": {},
   "outputs": [],
   "source": [
    "# load data\n",
    "data = pd.read_csv(\"Salary_Data.csv\")\n",
    "\n",
    "X = data.YearsExperience\n",
    "y = data.Salary\n"
   ]
  },
  {
   "cell_type": "code",
   "execution_count": null,
   "metadata": {},
   "outputs": [],
   "source": [
    "def transform_and_evaluate(transformer):\n",
    "    # Apply transformation to X\n",
    "    X_transformed = transformer(X)\n",
    "    X_transformed = X_transformed.to_numpy().reshape(-1,1)\n",
    "    \n",
    "    # Fit the model\n",
    "    reg = LinearRegression().fit(X_transformed, y)\n",
    "    \n",
    "    # Make predictions\n",
    "    y_pred = reg.predict(X_transformed)\n",
    "    \n",
    "    # Calculate MSE\n",
    "    mse = mean_squared_error(y, y_pred)\n",
    "    \n",
    "    return mse\n",
    "\n"
   ]
  },
  {
   "cell_type": "code",
   "execution_count": null,
   "metadata": {},
   "outputs": [],
   "source": [
    "\n",
    "mse_log = transform_and_evaluate(np.log)\n",
    "print(\"MSE for log transformation:\", mse_log)"
   ]
  },
  {
   "cell_type": "code",
   "execution_count": null,
   "metadata": {},
   "outputs": [],
   "source": [
    "\n",
    "# Square root transformation\n",
    "mse_sqrt = transform_and_evaluate(np.sqrt)\n",
    "print(\"MSE for square root transformation:\", mse_sqrt)"
   ]
  },
  {
   "cell_type": "code",
   "execution_count": null,
   "metadata": {},
   "outputs": [],
   "source": [
    "\n",
    "# Cube root transformation\n",
    "mse_cbrt = transform_and_evaluate(np.cbrt)\n",
    "print(\"MSE for cube root transformation:\", mse_cbrt)\n"
   ]
  },
  {
   "cell_type": "code",
   "execution_count": null,
   "metadata": {},
   "outputs": [],
   "source": [
    "# No transformation\n",
    "mse_original = transform_and_evaluate(lambda x: x)\n",
    "print(\"MSE for no transformation:\", mse_original)"
   ]
  },
  {
   "cell_type": "code",
   "execution_count": null,
   "metadata": {},
   "outputs": [],
   "source": []
  },
  {
   "cell_type": "code",
   "execution_count": null,
   "metadata": {},
   "outputs": [],
   "source": []
  },
  {
   "cell_type": "markdown",
   "metadata": {},
   "source": [
    "# Using Ridge with Transformations and observing the model accuracy"
   ]
  },
  {
   "cell_type": "code",
   "execution_count": null,
   "metadata": {},
   "outputs": [],
   "source": [
    "import numpy as np\n",
    "from sklearn.linear_model import Ridge\n",
    "from sklearn.metrics import mean_squared_error\n",
    "import pandas as pd\n",
    "\n",
    "# Load the data\n",
    "data = pd.read_csv(\"Salary_Data.csv\")\n",
    "\n",
    "X = data['YearsExperience']\n",
    "y = data['Salary']\n",
    "\n"
   ]
  },
  {
   "cell_type": "code",
   "execution_count": null,
   "metadata": {},
   "outputs": [],
   "source": [
    "# Define a function to transform the data and evaluate the model\n",
    "def transform_and_evaluate(transformer, alpha):\n",
    "    # Apply transformation to X\n",
    "    X_transformed = transformer(X)\n",
    "    X_transformed = X_transformed.to_numpy().reshape(-1,1)\n",
    "    \n",
    "    # Fit the model\n",
    "    reg = Ridge(alpha=alpha).fit(X_transformed, y)\n",
    "    \n",
    "    # Make predictions\n",
    "    y_pred = reg.predict(X_transformed)\n",
    "    \n",
    "    # Calculate MSE\n",
    "    mse = mean_squared_error(y, y_pred)\n",
    "    \n",
    "    return mse\n"
   ]
  },
  {
   "cell_type": "code",
   "execution_count": null,
   "metadata": {},
   "outputs": [],
   "source": [
    "\n",
    "# Define the different transformations to be tested\n",
    "transformations = [np.log, np.sqrt, np.cbrt, lambda x: 1/x]\n",
    "transformation_names = ['log', 'square root', 'cube root', 'reciprocal']\n"
   ]
  },
  {
   "cell_type": "code",
   "execution_count": null,
   "metadata": {},
   "outputs": [],
   "source": [
    "# Test each transformation and print the results\n",
    "for i, trans in enumerate(transformations):\n",
    "    mse = transform_and_evaluate(trans, 1)\n",
    "    print(\"MSE for {} transformation: {:.2f}\".format(transformation_names[i], mse))"
   ]
  },
  {
   "cell_type": "code",
   "execution_count": null,
   "metadata": {},
   "outputs": [],
   "source": []
  },
  {
   "cell_type": "code",
   "execution_count": null,
   "metadata": {},
   "outputs": [],
   "source": []
  },
  {
   "cell_type": "markdown",
   "metadata": {},
   "source": [
    "# Best Model using Mean Squared, R2 score. Also calculating the boxcox and observing the GridSearchCV Class"
   ]
  },
  {
   "cell_type": "code",
   "execution_count": null,
   "metadata": {},
   "outputs": [],
   "source": [
    "import numpy as np\n",
    "import pandas as pd\n",
    "from sklearn.linear_model import LinearRegression\n",
    "from sklearn.metrics import mean_squared_error, r2_score\n",
    "from scipy.stats import boxcox\n",
    "from sklearn.model_selection import GridSearchCV\n",
    "\n",
    "# Load the data\n",
    "data = pd.read_csv(\"Salary_Data.csv\")\n"
   ]
  },
  {
   "cell_type": "code",
   "execution_count": null,
   "metadata": {},
   "outputs": [],
   "source": [
    "# Splitting the data into dependent and independent variables\n",
    "X = data.iloc[:, :-1].values\n",
    "y = data.iloc[:, -1].values"
   ]
  },
  {
   "cell_type": "code",
   "execution_count": null,
   "metadata": {},
   "outputs": [],
   "source": [
    "# Applying log transformation\n",
    "X_log = np.log(X)\n",
    "\n",
    "# Applying square root transformation\n",
    "X_sqrt = np.sqrt(X)\n",
    "\n",
    "# Applying cube root transformation\n",
    "X_cbrt = np.cbrt(X)\n",
    "\n",
    "# Applying Box-Cox transformation\n",
    "X = X.ravel()\n",
    "X, _ = boxcox(X)\n"
   ]
  },
  {
   "cell_type": "code",
   "execution_count": null,
   "metadata": {},
   "outputs": [],
   "source": [
    "# Fitting the linear regression model to the transformed data\n",
    "regressor = LinearRegression()\n",
    "regressor.fit(X_log, y)\n",
    "y_pred_log = regressor.predict(X_log)\n",
    "\n"
   ]
  },
  {
   "cell_type": "code",
   "execution_count": null,
   "metadata": {},
   "outputs": [],
   "source": [
    "regressor.fit(X_sqrt, y)\n",
    "y_pred_sqrt = regressor.predict(X_sqrt)\n",
    "\n",
    "regressor.fit(X_cbrt, y)\n",
    "y_pred_cbrt = regressor.predict(X_cbrt)\n",
    "\n",
    "# regressor.fit(X, y)\n",
    "X = X.reshape(-1, 1)\n",
    "\n",
    "regressor.fit(X, y)\n",
    "\n",
    "\n",
    "\n",
    "\n",
    "X_boxcox = X_boxcox.reshape(-1, 1)\n",
    "y_pred_boxcox = regressor.predict(X_boxcox)\n",
    "\n",
    "\n",
    "\n",
    "# regressor = LinearRegression()\n",
    "\n",
    "# # Define the hyperparameters to search over\n",
    "# param_grid = {'fit_intercept': [True, False], 'normalize': [True, False]}\n",
    "\n",
    "# # Create a GridSearchCV object\n",
    "# grid_search = GridSearchCV(regressor, param_grid, cv=5, scoring='r2')\n",
    "\n",
    "# # Fit the GridSearchCV object to the data\n",
    "# X = X.reshape(-1, 1)\n",
    "# grid_search.fit(X, y)\n",
    "\n",
    "# # Print the best hyperparameters\n",
    "# print('Best hyperparameters:', grid_search.best_params_)\n",
    "\n",
    "#Best hyperparameters: {'fit_intercept': True, 'normalize': False}"
   ]
  },
  {
   "cell_type": "code",
   "execution_count": null,
   "metadata": {},
   "outputs": [],
   "source": [
    "# Calculating the R squared and MSE for each transformation\n",
    "print(\"R squared for log transformation: \", r2_score(y, y_pred_log))\n",
    "print(\"MSE for log transformation: \", mean_squared_error(y, y_pred_log))\n",
    "\n",
    "print(\"R squared for square root transformation: \", r2_score(y, y_pred_sqrt))\n",
    "print(\"MSE for square root transformation: \", mean_squared_error(y, y_pred_sqrt))\n",
    "\n",
    "\n",
    "print(\"R squared for cube root transformation: \", r2_score(y, y_pred_cbrt))\n",
    "print(\"MSE for cube root transformation: \", mean_squared_error(y, y_pred_cbrt))\n",
    "\n",
    "\n",
    "print(\"Boxcox\",boxcox(y,X_boxcox))"
   ]
  },
  {
   "cell_type": "code",
   "execution_count": null,
   "metadata": {},
   "outputs": [],
   "source": []
  }
 ],
 "metadata": {
  "kernelspec": {
   "display_name": "Python 3",
   "language": "python",
   "name": "python3"
  },
  "language_info": {
   "codemirror_mode": {
    "name": "ipython",
    "version": 3
   },
   "file_extension": ".py",
   "mimetype": "text/x-python",
   "name": "python",
   "nbconvert_exporter": "python",
   "pygments_lexer": "ipython3",
   "version": "3.7.6"
  }
 },
 "nbformat": 4,
 "nbformat_minor": 4
}
